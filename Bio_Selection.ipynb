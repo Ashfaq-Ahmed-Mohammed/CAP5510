{
  "nbformat": 4,
  "nbformat_minor": 0,
  "metadata": {
    "colab": {
      "provenance": []
    },
    "kernelspec": {
      "name": "python3",
      "display_name": "Python 3"
    },
    "language_info": {
      "name": "python"
    }
  },
  "cells": [
    {
      "cell_type": "code",
      "execution_count": 1,
      "metadata": {
        "id": "sdN7vuRFdL7O"
      },
      "outputs": [],
      "source": [
        "import pandas as pd\n",
        "import random"
      ]
    },
    {
      "cell_type": "code",
      "source": [
        "df = pd.read_csv('hemoglobin_filtered_unique.csv')"
      ],
      "metadata": {
        "id": "PtX6rP_fdY6q"
      },
      "execution_count": 2,
      "outputs": []
    },
    {
      "cell_type": "code",
      "source": [
        "superorder_targets = {\n",
        "    'Marsupials': 14,\n",
        "    'Afrotheria': 13,\n",
        "    'Xenarthra': 4,\n",
        "    'Laurasiatheria': 79,\n",
        "    'Euarchontoglires': 99\n",
        "}"
      ],
      "metadata": {
        "id": "tQxqxfpvdoWi"
      },
      "execution_count": 3,
      "outputs": []
    },
    {
      "cell_type": "code",
      "source": [
        "selected_records = []\n",
        "\n",
        "print(\"\\n=== STRATIFIED SAMPLING ===\\n\")\n",
        "\n",
        "for superorder in ['Marsupials', 'Afrotheria', 'Xenarthra', 'Laurasiatheria', 'Euarchontoglires']:\n",
        "    target = superorder_targets[superorder]\n",
        "\n",
        "\n",
        "    super_df = df[df['superorder'] == superorder].copy()\n",
        "    available = len(super_df)\n",
        "\n",
        "    print(f\"{superorder}: {available} available, targeting {target}\")\n",
        "\n",
        "\n",
        "    orders = super_df['order'].unique()\n",
        "\n",
        "\n",
        "    order_quotas = {}\n",
        "    for order in orders:\n",
        "        order_count = len(super_df[super_df['order'] == order])\n",
        "        order_quotas[order] = max(1, int(target * order_count / available))\n",
        "\n",
        "\n",
        "    total_quota = sum(order_quotas.values())\n",
        "    if total_quota != target:\n",
        "        diff = target - total_quota\n",
        "        largest_order = max(order_quotas, key=order_quotas.get)\n",
        "        order_quotas[largest_order] += diff\n",
        "\n",
        "\n",
        "    for order in orders:\n",
        "        order_df = super_df[super_df['order'] == order].copy()\n",
        "        quota = order_quotas[order]\n",
        "\n",
        "\n",
        "        genera = order_df['genus'].unique()\n",
        "        sampled_records = []\n",
        "\n",
        "\n",
        "        for genus in genera:\n",
        "            if len(sampled_records) < quota:\n",
        "                genus_df = order_df[order_df['genus'] == genus]\n",
        "                if len(genus_df) > 0:\n",
        "\n",
        "                    genus_df_sorted = genus_df.sort_values(['precedence', 'seq_length'],\n",
        "                                                           ascending=[True, False])\n",
        "\n",
        "                    sampled_records.append(genus_df_sorted.iloc[0].to_dict())\n",
        "\n",
        "\n",
        "        if len(sampled_records) < quota:\n",
        "            used_species = {r['species'] for r in sampled_records}\n",
        "            remaining = order_df[~order_df['species'].isin(used_species)].to_dict('records')\n",
        "            if remaining:\n",
        "                fill = random.sample(remaining, min(quota - len(sampled_records), len(remaining)))\n",
        "                sampled_records.extend(fill)\n",
        "\n",
        "        selected_records.extend(sampled_records)\n",
        "        print(f\"  {order}: selected {len(sampled_records)}\")"
      ],
      "metadata": {
        "colab": {
          "base_uri": "https://localhost:8080/"
        },
        "id": "XYLfGgLndyKG",
        "outputId": "b0911c37-684a-4f6c-e226-6ca46aef4e85"
      },
      "execution_count": 7,
      "outputs": [
        {
          "output_type": "stream",
          "name": "stdout",
          "text": [
            "\n",
            "=== STRATIFIED SAMPLING ===\n",
            "\n",
            "Marsupials: 14 available, targeting 14\n",
            "  Dasyuromorphia: selected 4\n",
            "  Didelphimorphia: selected 3\n",
            "  Diprotodontia: selected 6\n",
            "  Peramelemorphia: selected 1\n",
            "Afrotheria: 13 available, targeting 13\n",
            "  Afrosoricida: selected 3\n",
            "  Sirenia: selected 3\n",
            "  Macroscelidea: selected 1\n",
            "  Proboscidea: selected 4\n",
            "  Tubulidentata: selected 1\n",
            "  Hyracoidea: selected 1\n",
            "Xenarthra: 4 available, targeting 4\n",
            "  Pilosa: selected 3\n",
            "  Cingulata: selected 1\n",
            "Laurasiatheria: 203 available, targeting 79\n",
            "  Carnivora: selected 25\n",
            "  Artiodactyla: selected 30\n",
            "  Chiroptera: selected 13\n",
            "  Eulipotyphla: selected 5\n",
            "  Perissodactyla: selected 5\n",
            "  Pholidota: selected 1\n",
            "Euarchontoglires: 164 available, targeting 99\n",
            "  Rodentia: selected 50\n",
            "  Primates: selected 39\n",
            "  Dermoptera: selected 1\n",
            "  Lagomorpha: selected 8\n",
            "  Scandentia: selected 1\n"
          ]
        }
      ]
    },
    {
      "cell_type": "code",
      "source": [
        "\n",
        "final_df = pd.DataFrame(selected_records)\n",
        "\n",
        "print(f\"\\nFinal selection: {len(final_df)} species\")\n",
        "\n",
        "# Verify distribution\n",
        "print(\"\\nFinal distribution:\")\n",
        "print(final_df['superorder'].value_counts().sort_index())\n",
        "\n",
        "\n",
        "final_df.to_csv('hemoglobin_209_species_final.csv', index=False)"
      ],
      "metadata": {
        "colab": {
          "base_uri": "https://localhost:8080/"
        },
        "id": "5PoipTywd94L",
        "outputId": "35a6707e-12de-4af7-f925-0c25b4bf2621"
      },
      "execution_count": 9,
      "outputs": [
        {
          "output_type": "stream",
          "name": "stdout",
          "text": [
            "\n",
            "✓ Final selection: 209 species\n",
            "\n",
            "Final distribution:\n",
            "superorder\n",
            "Afrotheria          13\n",
            "Euarchontoglires    99\n",
            "Laurasiatheria      79\n",
            "Marsupials          14\n",
            "Xenarthra            4\n",
            "Name: count, dtype: int64\n"
          ]
        }
      ]
    },
    {
      "cell_type": "code",
      "source": [
        "!pip install Bio\n"
      ],
      "metadata": {
        "colab": {
          "base_uri": "https://localhost:8080/"
        },
        "id": "WfldPyuyfLzg",
        "outputId": "6d5e1b7f-42c4-4cfa-837c-42be609de818"
      },
      "execution_count": 12,
      "outputs": [
        {
          "output_type": "stream",
          "name": "stdout",
          "text": [
            "Collecting Bio\n",
            "  Downloading bio-1.8.1-py3-none-any.whl.metadata (5.7 kB)\n",
            "Collecting biopython>=1.80 (from Bio)\n",
            "  Downloading biopython-1.85-cp312-cp312-manylinux_2_17_x86_64.manylinux2014_x86_64.whl.metadata (13 kB)\n",
            "Collecting gprofiler-official (from Bio)\n",
            "  Downloading gprofiler_official-1.0.0-py3-none-any.whl.metadata (11 kB)\n",
            "Collecting mygene (from Bio)\n",
            "  Downloading mygene-3.2.2-py2.py3-none-any.whl.metadata (10 kB)\n",
            "Requirement already satisfied: pandas in /usr/local/lib/python3.12/dist-packages (from Bio) (2.2.2)\n",
            "Requirement already satisfied: pooch in /usr/local/lib/python3.12/dist-packages (from Bio) (1.8.2)\n",
            "Requirement already satisfied: requests in /usr/local/lib/python3.12/dist-packages (from Bio) (2.32.4)\n",
            "Requirement already satisfied: tqdm in /usr/local/lib/python3.12/dist-packages (from Bio) (4.67.1)\n",
            "Requirement already satisfied: numpy in /usr/local/lib/python3.12/dist-packages (from biopython>=1.80->Bio) (2.0.2)\n",
            "Collecting biothings-client>=0.2.6 (from mygene->Bio)\n",
            "  Downloading biothings_client-0.4.1-py3-none-any.whl.metadata (10 kB)\n",
            "Requirement already satisfied: python-dateutil>=2.8.2 in /usr/local/lib/python3.12/dist-packages (from pandas->Bio) (2.9.0.post0)\n",
            "Requirement already satisfied: pytz>=2020.1 in /usr/local/lib/python3.12/dist-packages (from pandas->Bio) (2025.2)\n",
            "Requirement already satisfied: tzdata>=2022.7 in /usr/local/lib/python3.12/dist-packages (from pandas->Bio) (2025.2)\n",
            "Requirement already satisfied: platformdirs>=2.5.0 in /usr/local/lib/python3.12/dist-packages (from pooch->Bio) (4.5.0)\n",
            "Requirement already satisfied: packaging>=20.0 in /usr/local/lib/python3.12/dist-packages (from pooch->Bio) (25.0)\n",
            "Requirement already satisfied: charset_normalizer<4,>=2 in /usr/local/lib/python3.12/dist-packages (from requests->Bio) (3.4.4)\n",
            "Requirement already satisfied: idna<4,>=2.5 in /usr/local/lib/python3.12/dist-packages (from requests->Bio) (3.11)\n",
            "Requirement already satisfied: urllib3<3,>=1.21.1 in /usr/local/lib/python3.12/dist-packages (from requests->Bio) (2.5.0)\n",
            "Requirement already satisfied: certifi>=2017.4.17 in /usr/local/lib/python3.12/dist-packages (from requests->Bio) (2025.10.5)\n",
            "Requirement already satisfied: httpx>=0.22.0 in /usr/local/lib/python3.12/dist-packages (from biothings-client>=0.2.6->mygene->Bio) (0.28.1)\n",
            "Requirement already satisfied: six>=1.5 in /usr/local/lib/python3.12/dist-packages (from python-dateutil>=2.8.2->pandas->Bio) (1.17.0)\n",
            "Requirement already satisfied: anyio in /usr/local/lib/python3.12/dist-packages (from httpx>=0.22.0->biothings-client>=0.2.6->mygene->Bio) (4.11.0)\n",
            "Requirement already satisfied: httpcore==1.* in /usr/local/lib/python3.12/dist-packages (from httpx>=0.22.0->biothings-client>=0.2.6->mygene->Bio) (1.0.9)\n",
            "Requirement already satisfied: h11>=0.16 in /usr/local/lib/python3.12/dist-packages (from httpcore==1.*->httpx>=0.22.0->biothings-client>=0.2.6->mygene->Bio) (0.16.0)\n",
            "Requirement already satisfied: sniffio>=1.1 in /usr/local/lib/python3.12/dist-packages (from anyio->httpx>=0.22.0->biothings-client>=0.2.6->mygene->Bio) (1.3.1)\n",
            "Requirement already satisfied: typing_extensions>=4.5 in /usr/local/lib/python3.12/dist-packages (from anyio->httpx>=0.22.0->biothings-client>=0.2.6->mygene->Bio) (4.15.0)\n",
            "Downloading bio-1.8.1-py3-none-any.whl (321 kB)\n",
            "\u001b[2K   \u001b[90m━━━━━━━━━━━━━━━━━━━━━━━━━━━━━━━━━━━━━━━━\u001b[0m \u001b[32m321.3/321.3 kB\u001b[0m \u001b[31m13.0 MB/s\u001b[0m eta \u001b[36m0:00:00\u001b[0m\n",
            "\u001b[?25hDownloading biopython-1.85-cp312-cp312-manylinux_2_17_x86_64.manylinux2014_x86_64.whl (3.3 MB)\n",
            "\u001b[2K   \u001b[90m━━━━━━━━━━━━━━━━━━━━━━━━━━━━━━━━━━━━━━━━\u001b[0m \u001b[32m3.3/3.3 MB\u001b[0m \u001b[31m75.0 MB/s\u001b[0m eta \u001b[36m0:00:00\u001b[0m\n",
            "\u001b[?25hDownloading gprofiler_official-1.0.0-py3-none-any.whl (9.3 kB)\n",
            "Downloading mygene-3.2.2-py2.py3-none-any.whl (5.4 kB)\n",
            "Downloading biothings_client-0.4.1-py3-none-any.whl (46 kB)\n",
            "\u001b[2K   \u001b[90m━━━━━━━━━━━━━━━━━━━━━━━━━━━━━━━━━━━━━━━━\u001b[0m \u001b[32m46.7/46.7 kB\u001b[0m \u001b[31m3.9 MB/s\u001b[0m eta \u001b[36m0:00:00\u001b[0m\n",
            "\u001b[?25hInstalling collected packages: biopython, gprofiler-official, biothings-client, mygene, Bio\n",
            "Successfully installed Bio-1.8.1 biopython-1.85 biothings-client-0.4.1 gprofiler-official-1.0.0 mygene-3.2.2\n"
          ]
        }
      ]
    },
    {
      "cell_type": "code",
      "source": [
        "from Bio.SeqIO import SeqRecord, write\n",
        "from Bio.Seq import Seq\n",
        "\n",
        "fasta_records = []\n",
        "for _, row in final_df.iterrows():\n",
        "    record = SeqRecord(\n",
        "        Seq(row['sequence']),\n",
        "        id=str(row['protein_id']),\n",
        "        description=f\"{row['species']} | {row['order']} | {row['superorder']}\"\n",
        "    )\n",
        "    fasta_records.append(record)\n",
        "\n",
        "write(fasta_records, \"hemoglobin_209_species_final.fasta\", \"fasta\")"
      ],
      "metadata": {
        "colab": {
          "base_uri": "https://localhost:8080/"
        },
        "id": "NfSaiLyQfHK-",
        "outputId": "4e692ed7-d5b8-40aa-8164-79af2a703e42"
      },
      "execution_count": 16,
      "outputs": [
        {
          "output_type": "execute_result",
          "data": {
            "text/plain": [
              "209"
            ]
          },
          "metadata": {},
          "execution_count": 16
        }
      ]
    }
  ]
}